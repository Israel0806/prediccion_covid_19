{
  "nbformat": 4,
  "nbformat_minor": 0,
  "metadata": {
    "colab": {
      "name": "Parcial.ipynb",
      "provenance": [],
      "collapsed_sections": [
        "LLGlcgD0in81",
        "VDQX31Sfdx2d"
      ]
    },
    "kernelspec": {
      "display_name": "Python 3",
      "name": "python3"
    },
    "language_info": {
      "name": "python"
    }
  },
  "cells": [
    {
      "cell_type": "markdown",
      "metadata": {
        "id": "Ld8Xbbc47VDn"
      },
      "source": [
        "# Cargar los datos\n",
        "Utilizar pandas"
      ]
    },
    {
      "cell_type": "markdown",
      "metadata": {
        "id": "78R0G42lEc3g"
      },
      "source": [
        "## Funciones de agrupacion"
      ]
    },
    {
      "cell_type": "code",
      "metadata": {
        "id": "s26rDRr1EgFV"
      },
      "source": [
        "def applyDeathVaccineRate(fila):\n",
        "  if fila[\"numero_vacunados\"]:\n",
        "    death_ratio = fila[\"deaths\"] / fila[\"numero_vacunados\"]\n",
        "  else:\n",
        "    death_ratio = fila[\"deaths\"]\n",
        "  death_ratio = death_ratio  \n",
        "  return death_ratio\n",
        "\n",
        "def applyDeathRatio(fila):\n",
        "  if(fila['confirmed']) and fila['deaths']:\n",
        "    death_ratio = (fila['deaths'] / fila['confirmed']) / fila['deaths']\n",
        "  else:\n",
        "    if fila['deaths']:\n",
        "      death_ratio = fila['deaths'] / fila['deaths'] \n",
        "    else:\n",
        "      death_ratio = 0\n",
        "  return death_ratio\n",
        "\n",
        "def applyConfirmedVaccined(fila):\n",
        "  if fila['confirmed']:\n",
        "    result = fila['numero_vacunados'] / fila['confirmed']\n",
        "  else:\n",
        "    result = fila['numero_vacunados']\n",
        "  \n",
        "  return result"
      ],
      "execution_count": null,
      "outputs": []
    },
    {
      "cell_type": "markdown",
      "metadata": {
        "id": "yg1HYrSdEzWZ"
      },
      "source": [
        "## Funciones de transformacion"
      ]
    },
    {
      "cell_type": "code",
      "metadata": {
        "id": "-hCoRptzEzeQ"
      },
      "source": [
        "\n",
        "def formatDate(FECHA_VACUNACION):\n",
        "  fecha = str(FECHA_VACUNACION)\n",
        "  nueva_fecha = fecha[0:4] + '-' + fecha[4:6] + '-' + fecha[6:8]\n",
        "  return nueva_fecha\n",
        "\n",
        "def sumVacunados(Vacunacion_mod):\n",
        "  vacunados = Vacunacion_mod['numero_vacunados']\n",
        "  sum_vacunados = vacunados[0]\n",
        "  vacunados_copy = []\n",
        "  vacunados_copy.append(sum_vacunados)\n",
        "  for i in range(1, len(vacunados)):\n",
        "    sum_vacunados += vacunados[i]\n",
        "    vacunados_copy.append(sum_vacunados)\n",
        "  Vacunacion_mod['numero_vacunados'] = vacunados_copy\n",
        "  return Vacunacion_mod\n"
      ],
      "execution_count": null,
      "outputs": []
    },
    {
      "cell_type": "markdown",
      "metadata": {
        "id": "6GduLwv8Es_v"
      },
      "source": [
        "## Funcion principal de carga"
      ]
    },
    {
      "cell_type": "code",
      "metadata": {
        "id": "BIrNkax-6KOn"
      },
      "source": [
        "import pandas as pd\n",
        "import numpy as np\n",
        "import datetime\n",
        "import matplotlib.pyplot as plt\n",
        "\n",
        "import time\n",
        "\n",
        "from sklearn.model_selection import train_test_split\n",
        "from sklearn.metrics import mean_squared_error\n",
        "\n",
        "\n",
        "def loadCamasUci():\n",
        "  Camas_uci = pd.read_csv('/content/drive/MyDrive/Topicos_IA/camas_uci.csv')\n",
        "  Camas_uci = Camas_uci.rename(columns={\"fecha\": \"date\"})\n",
        "  Camas_uci = Camas_uci.fillna(0)\n",
        "\n",
        "  camas_en_uso = Camas_uci[Camas_uci['estado'].str.contains(\"en uso\")]\n",
        "  camas_en_uso = camas_en_uso.rename(columns={\"total\": \"total_camas_en_uso\"})\n",
        "  camas_en_uso = camas_en_uso[{'date','total_camas_en_uso'}]\n",
        "\n",
        "  camas_libre = Camas_uci[Camas_uci['estado'].str.contains(\"disponible\")]\n",
        "  camas_libre = camas_libre.rename(columns={\"total\": \"total_camas_libre\"})\n",
        "  camas_libre = camas_libre[{'date','total_camas_libre'}]\n",
        "  return camas_en_uso, camas_libre\n",
        "\n",
        "def loadHospitalizados():\n",
        "  hospitalizados = pd.read_csv('/content/drive/MyDrive/Topicos_IA/covid-19-peru-detalle-hospitalizados.csv')\n",
        "  hospitalizados = hospitalizados.rename(columns={\"fecha\": \"date\"})\n",
        "  hospitalizados = hospitalizados[{'date', 'hospitalizados', 'desfavorable', 'ventilacion_mecanica', 'uci'}]\n",
        "  return hospitalizados\n",
        "\n",
        "\n",
        "def loadData(Archivo, Vacunacion, column, region, objetivo):\n",
        "  camas_en_uso, camas_libre = loadCamasUci()\n",
        "  hospitalizados = loadHospitalizados()\n",
        "\n",
        "  # agrupar para prediccion para peru\n",
        "  if column == 'country':\n",
        "    Archivo = Archivo[Archivo[\"country\"].str.contains(\"Peru\")]\n",
        "    Archivo = Archivo.fillna(0)\n",
        "    Archivo = Archivo[Archivo['region'] != 0]\n",
        "    Archivo = Archivo.groupby('date').sum().reset_index()\n",
        "\n",
        "    # agrupacion de la vacunacion\n",
        "    Vacunacion_fecha = Vacunacion.groupby('date').count()\n",
        "    Vacunacion_mod = Vacunacion_fecha.drop(columns=[\"DEPARTAMENTO\"])\n",
        "  else: # agrupar para prediccion para arequipa\n",
        "    Archivo = Archivo[Archivo[column].fillna(\"0\").str.contains(region)]\n",
        "    Archivo = Archivo.fillna(0)\n",
        "    \n",
        "    # agrupacion de la vacunacion\n",
        "    Vacunacion_departamento = Vacunacion[Vacunacion[\"DEPARTAMENTO\"].str.contains(\"AREQUIPA\")]\n",
        "    Vacunacion_departamento = Vacunacion_departamento.groupby('date').count()\n",
        "    Vacunacion_mod = Vacunacion_departamento.drop(columns=[\"DEPARTAMENTO\"])\n",
        "\n",
        "  Vacunacion_mod = Vacunacion_mod.rename(columns={\"GRUPO_RIESGO\": \"numero_vacunados\"})\n",
        "  Vacunacion_mod = sumVacunados(Vacunacion_mod)\n",
        "\n",
        "  # Juntar todos los datos\n",
        "  Archivo = pd.merge(Archivo, Vacunacion_mod, on='date', how='left')\n",
        "  Archivo = pd.merge(Archivo, camas_en_uso, on='date', how='left')\n",
        "  Archivo = pd.merge(Archivo, camas_libre, on='date', how='left')\n",
        "  Archivo = pd.merge(Archivo, hospitalizados, on='date', how='left')\n",
        "  Archivo = Archivo.fillna(0)\n",
        "\n",
        "  # Funciones de agrupacion\n",
        "  if objetivo == 'deaths':\n",
        "    Archivo['muertos_vacunas'] =  Archivo.apply(applyDeathVaccineRate, axis=1)\n",
        "    Archivo['death_ratio'] = Archivo.apply(applyDeathRatio, axis=1)\n",
        "    Archivo['confirmed_vaccined'] = Archivo.apply(applyConfirmedVaccined, axis=1)\n",
        "\n",
        "  # Elijo las columnos numericas\n",
        "  X = Archivo[Archivo.select_dtypes('number').columns]\n",
        "  if objetivo == 'confirmed': # Elijo las columnas que me interesan para la prediccion de la confirmacion\n",
        "    X = X[{'pcr_test_positive','serological_test_positive','ag_test_positive', 'pcr_serological_test_positive'}]\n",
        "  else:\n",
        "    # With confirmed y theta 0: Mismo patron, valores lejanos \n",
        "    #                  theta 1: Similar patron, valores cercanos 0.0001\n",
        "    # With death_ratio y theta 0: Mismo patron, valores lejanos \n",
        "    #                    theta 1: Mismo patron, valores lejanos \n",
        "    # With hospitalizados y theta 0: Mismo patron, valores lejanos \n",
        "    #                       theta 1: Mismo patron, valores lejanos \n",
        "    # With confirmed_vaccined y theta 0: Mismo patron, valores lejanos \n",
        "    #                           theta 1: Mismo patron, valores lejanos \n",
        "    # With total_camas_en_uso y theta 0: Mismo patron, valores lejanos \n",
        "    #                           theta 1: Mismo patron, valores medianos \n",
        "    # With uci y theta 0: Mismo patron, valores lejanos raros  \n",
        "    #            theta 1: Similar patron, valores cercanos raros  0.32\n",
        "    # With muertos_vacunas y theta 0: Mismo patron, valores lejanos \n",
        "    #                      theta 1: Mismo patron, valores medianos 3.29 \n",
        "    # With numero_vacunados y theta 0: Mismo patron, valores medianos 3.29 \n",
        "    #                         theta 1: Similar patron, valores medianos 0.25\n",
        "    \n",
        "    X = X[{'confirmed','muertos_vacunas'}] #1\n",
        "\n",
        "    # X = X[{'confirmed','muertos_vacunas', 'confirmed_vaccined'}] # 1\n",
        "    # X = X[{'confirmed','muertos_vacunas', 'death_ratio'}] # 1 \n",
        "\n",
        "  Y = Archivo[objetivo]\n",
        "  # Normalizar y agregar unos para theta\n",
        "  X, Y, x_means, s_stds, y_mean, y_std = normalize(X, Y)\n",
        "  X = agregarUnos(X)\n",
        "\n",
        "  return Archivo, X, Y, x_means, s_stds, y_mean, y_std"
      ],
      "execution_count": null,
      "outputs": []
    },
    {
      "cell_type": "markdown",
      "metadata": {
        "id": "otJoGeOQ7S-5"
      },
      "source": [
        "# Normalizar los datos\n",
        "Normalización con el promedio y desviacion estandar"
      ]
    },
    {
      "cell_type": "code",
      "metadata": {
        "id": "q1J84Cqt7Y9N"
      },
      "source": [
        "def normalize(X, Y): \n",
        "  x_means = []\n",
        "  x_stds = []\n",
        "  for column in X:\n",
        "    x_means.append(np.mean(X[column]))\n",
        "    x_stds.append(np.std(X[column]))\n",
        "    X[column] = (X[column] - x_means[-1]) / x_stds[-1]\n",
        "                \n",
        "  X = X.fillna(0)\n",
        "\n",
        "  y_mean = np.mean(Y)\n",
        "  y_std = np.std(Y)\n",
        "  Y = (Y-y_mean)/y_std\n",
        "  return X, Y, x_means, x_stds, y_mean, y_std"
      ],
      "execution_count": null,
      "outputs": []
    },
    {
      "cell_type": "markdown",
      "metadata": {
        "id": "XA2fc4W8fDb8"
      },
      "source": [
        "# Agregar unos para *theta*"
      ]
    },
    {
      "cell_type": "code",
      "metadata": {
        "id": "AJyNC_euD--P"
      },
      "source": [
        "def agregarUnos(X):\n",
        "  x_size = X.shape[0]\n",
        "  X.insert(0, 'ones', np.ones(x_size))\n",
        "  return X"
      ],
      "execution_count": null,
      "outputs": []
    },
    {
      "cell_type": "markdown",
      "metadata": {
        "id": "pBw_DyPyDEL3"
      },
      "source": [
        "# Gradiente"
      ]
    },
    {
      "cell_type": "code",
      "metadata": {
        "id": "P-pwqJHJBpSx"
      },
      "source": [
        "def derivadaCosto(x_train,y_train,theta):\n",
        "  m = y_train.shape[0]\n",
        "  mult = np.dot(x_train, theta)\n",
        "  resta = mult - y_train\n",
        "  return (1/m) * np.dot(resta, x_train)\n",
        "\n",
        "def gradiente(x_train, y_train, x_test, y_test, theta_, max_error, alpha, max_iteraciones):\n",
        "  J_history = []\n",
        "  iteraciones = 0\n",
        "  best_theta = theta_\n",
        "  \n",
        "  min_error = np.inf\n",
        "  error = np.inf\n",
        "  while error > max_error and iteraciones < max_iteraciones:\n",
        "    costo_ = derivadaCosto(x_train,y_train,theta_)\n",
        "    costo_ = np.transpose(costo_)\n",
        "    theta_ = theta_ - alpha * costo_\n",
        "    error = mean_squared_error(y_test, prediccion(x_test, theta_))\n",
        "    if error < min_error:\n",
        "      best_theta = theta_\n",
        "      min_error = error\n",
        "    \n",
        "    J_history.append(costo_)\n",
        "    iteraciones += 1\n",
        "  \n",
        "    \n",
        "  return J_history, best_theta, iteraciones"
      ],
      "execution_count": null,
      "outputs": []
    },
    {
      "cell_type": "code",
      "metadata": {
        "id": "HSlIApXYDEgF"
      },
      "source": [
        "def prediccion(datos, theta):\n",
        "  return np.dot(datos, theta)"
      ],
      "execution_count": null,
      "outputs": []
    },
    {
      "cell_type": "markdown",
      "metadata": {
        "id": "veK242pXzYZf"
      },
      "source": [
        "## Obtener rango de fechas"
      ]
    },
    {
      "cell_type": "code",
      "metadata": {
        "id": "4KM7l7vTNf1j"
      },
      "source": [
        "def daterange(date1, date2):\n",
        "    for n in range(int ((date2 - date1).days)+1):\n",
        "        yield date1 + datetime.timedelta(n)\n",
        "\n",
        "def getDateRange(start_date,end_date):\n",
        "  date_list = []\n",
        "  for dt in daterange(start_date, end_date):\n",
        "      date_list.append(dt.strftime(\"%Y-%m-%d\"))\n",
        "  return date_list\n",
        "\n",
        "def selectTicks(date_list, interval):\n",
        "  arr = []\n",
        "  for i in range(len(date_list)):\n",
        "    if i % interval == 0:\n",
        "      arr.append(date_list[i])\n",
        "  return arr\n"
      ],
      "execution_count": null,
      "outputs": []
    },
    {
      "cell_type": "markdown",
      "metadata": {
        "id": "xS_jGTXFHkAV"
      },
      "source": [
        "# Grafica"
      ]
    },
    {
      "cell_type": "code",
      "metadata": {
        "id": "uVfcuqC0Hk5l"
      },
      "source": [
        "from matplotlib.pyplot import figure\n",
        "\n",
        "def plotGraphs(title, x_label, y_label, x_values, y_values, predic_mat):\n",
        "  x_ticks_selected = selectTicks(x_values, 3)\n",
        "  fig = plt.figure()\n",
        "  plt.title(title)\n",
        "\n",
        "  plt.scatter(x_values, y_values,label='Reales')\n",
        "  plt.scatter(x_values, predic_mat,label='Prediccion')\n",
        "\n",
        "  plt.xticks(rotation=90)\n",
        "  plt.xticks(x_ticks_selected)\n",
        "  plt.xlabel(x_label)\n",
        "  plt.ylabel(y_label)\n",
        "  plt.legend()\n",
        "\n",
        "\n",
        "  figure(figsize=(8, 6), dpi=80)\n",
        "\n",
        "  fig.savefig('experimento1.png')\n",
        "\n",
        "  plt.show()"
      ],
      "execution_count": null,
      "outputs": []
    },
    {
      "cell_type": "markdown",
      "metadata": {
        "id": "LLGlcgD0in81"
      },
      "source": [
        "# Obtener el test y train "
      ]
    },
    {
      "cell_type": "code",
      "metadata": {
        "id": "gfetwcezi-qF"
      },
      "source": [
        "def trainTestSplit(Archivo, X, Y):\n",
        "  # TRAIN\n",
        "  mask = (Archivo['date'] < '2021-08-18')\n",
        "  train = X.loc[mask]\n",
        "  x_train = train[train.select_dtypes('number').columns]\n",
        "  y_train = Y.loc[mask]\n",
        "\n",
        "  # TEST\n",
        "  mask = (Archivo['date'] >= '2021-08-18') & (Archivo['date'] <= '2021-10-10')\n",
        "  test = X.loc[mask]\n",
        "  x_test = test[test.select_dtypes('number').columns]\n",
        "\n",
        "  y_test = Y.loc[mask]\n",
        "\n",
        "  return x_train, x_test, y_train, y_test\n"
      ],
      "execution_count": null,
      "outputs": []
    },
    {
      "cell_type": "markdown",
      "metadata": {
        "id": "VDQX31Sfdx2d"
      },
      "source": [
        "# Error medio"
      ]
    },
    {
      "cell_type": "code",
      "metadata": {
        "id": "ipkcnGyqd0rX"
      },
      "source": [
        "def error_medio(datos_orig, predic):\n",
        "  resta_cuadrada = np.sum(np.abs(datos_orig - predic))\n",
        "  return resta_cuadrada/datos_orig.shape[0]"
      ],
      "execution_count": null,
      "outputs": []
    },
    {
      "cell_type": "markdown",
      "metadata": {
        "id": "h8hpEtrqoQPQ"
      },
      "source": [
        "# Ejecucion"
      ]
    },
    {
      "cell_type": "code",
      "metadata": {
        "id": "jwVtk3k2oS-G"
      },
      "source": [
        "def ejecutarRegresionLinear(x_train, x_test, y_train, y_test, to_denormalize, x_label =\"\", y_label = \"\", title = \"\"):\n",
        "  # inicializar Theta\n",
        "  num_features = x_train.shape[1]\n",
        "  theta = np.ones(num_features) \n",
        "\n",
        "  # Ejecutar la gradiente\n",
        "  J_history, theta, iteraciones = gradiente(x_train, y_train, x_test, y_test,theta, 0.000001,0.0001, 10000)\n",
        "  print(\"Theta: \", theta)\n",
        "\n",
        "  # Calcular los errores\n",
        "  predict_mat_train = prediccion(x_train, theta)\n",
        "  predict_mat_test = prediccion(x_test, theta)\n",
        "\n",
        "  error_train = mean_squared_error(y_train, predict_mat_train)\n",
        "  # Desnormalizar\n",
        "  # y_test=(y_test*to_denormalize[3])+to_denormalize[2]\n",
        "  # predict_mat_test=(predict_mat_test*to_denormalize[3])+to_denormalize[2]\n",
        "  error_test = mean_squared_error(y_test, predict_mat_test)\n",
        "  print()\n",
        "  print(\"Error in train set: \", error_train)\n",
        "  print(\"Error in test set: \", error_test)\n",
        "  \n",
        "  print(\"erorr medio: \", end='')\n",
        "  print(error_medio(y_test, predict_mat_test))\n",
        "  \n",
        "  # Rango de fechas para la impresion de la grafica\n",
        "  start_date = datetime.date(2021, 8, 18)\n",
        "  end_date = datetime.date(2021, 10, 10)\n",
        "\n",
        "  date_list = getDateRange(start_date, end_date)\n",
        "  plotGraphs(title, x_label, y_label, date_list, y_test, predict_mat_test)\n",
        "\n",
        "  return error_train, error_test, theta, iteraciones"
      ],
      "execution_count": null,
      "outputs": []
    },
    {
      "cell_type": "markdown",
      "metadata": {
        "id": "7Tu6lxwdmaec"
      },
      "source": [
        "# Cargar Datos de vacunacion"
      ]
    },
    {
      "cell_type": "code",
      "metadata": {
        "colab": {
          "base_uri": "https://localhost:8080/"
        },
        "id": "6FB64NnRmcHp",
        "outputId": "f3b1f1ba-fe3e-4ec9-baf4-829509dac0dd"
      },
      "source": [
        "try:\n",
        "  Vacunacion\n",
        "except:\n",
        "  columns = [\"GRUPO_RIESGO\", \"FECHA_VACUNACION\", \"DEPARTAMENTO\"]\n",
        "  Vacunacion = pd.read_csv('/content/drive/MyDrive/Topicos_IA/vacunas_covid.csv')[columns]\n",
        "\n",
        "  Vacunacion = Vacunacion.rename(columns={\"FECHA_VACUNACION\": \"date\"})\n",
        "  Vacunacion[\"date\"] = Vacunacion[\"date\"].apply(formatDate)\n",
        "  Vacunacion = Vacunacion.sort_values(by='date')\n",
        "else:\n",
        "  print(\"File already loaded\")"
      ],
      "execution_count": null,
      "outputs": [
        {
          "output_type": "stream",
          "name": "stdout",
          "text": [
            "File already loaded\n"
          ]
        }
      ]
    },
    {
      "cell_type": "markdown",
      "metadata": {
        "id": "NPTJcM3BgoXJ"
      },
      "source": [
        "# Experimento 1\n"
      ]
    },
    {
      "cell_type": "markdown",
      "metadata": {
        "id": "4bH4QUW09awT"
      },
      "source": [
        "## Prediccion de los casos positivos en arequipa"
      ]
    },
    {
      "cell_type": "code",
      "metadata": {
        "id": "YMzGsWKLcWHl"
      },
      "source": [
        "execute_tests = [True, True, True, True]"
      ],
      "execution_count": null,
      "outputs": []
    },
    {
      "cell_type": "code",
      "metadata": {
        "id": "5ejPS3IEgpoc"
      },
      "source": [
        "# Mejores valores\n",
        "# theta = np.ones()\n",
        "# alpha = 0.01\n",
        "if execute_tests[0]:\n",
        "  start_time = time.time()\n",
        "\n",
        "  Archivo = pd.read_csv('/content/drive/MyDrive/Topicos_IA/dataset.csv')\n",
        "  Vacunacion_copy = Vacunacion\n",
        "\n",
        "  Archivo, X, Y, x_means, x_stds, y_mean, y_std = loadData(Archivo, Vacunacion_copy, 'region', 'Arequipa','confirmed')\n",
        "  Archivo['date']=pd.to_datetime(Archivo['date'])\n",
        "  x_train, x_test, y_train, y_test = trainTestSplit(Archivo, X, Y)\n",
        "\n",
        "  error_train, error_test, theta, iteraciones = ejecutarRegresionLinear(x_train, x_test, y_train, y_test, [x_means, x_stds, y_mean, y_std], \"Fechas\", \"Valores\", \"Prediccion de los casos confirmados en Arequipa\")\n",
        "\n",
        "  print()\n",
        "  print(\"Iteraciones: \" + str(iteraciones))\n",
        "  print(\"--- %s minutes ---\" % ((time.time() - start_time)/60))"
      ],
      "execution_count": null,
      "outputs": []
    },
    {
      "cell_type": "markdown",
      "metadata": {
        "id": "60NmOsKq9Xrv"
      },
      "source": [
        "## Prediccion de las muertes en arequipa"
      ]
    },
    {
      "cell_type": "code",
      "metadata": {
        "id": "HxTvS_fY9X0y",
        "colab": {
          "base_uri": "https://localhost:8080/",
          "height": 508
        },
        "outputId": "f2e102b3-5cd7-4c04-a879-9dd0767a77d7"
      },
      "source": [
        "# Mejores valores\n",
        "# theta = np.ones()\n",
        "# alpha = 0.0001\n",
        "if execute_tests[1]:\n",
        "  start_time = time.time()\n",
        "\n",
        "  Archivo = pd.read_csv('/content/drive/MyDrive/Topicos_IA/dataset.csv')\n",
        "  Vacunacion_copy = Vacunacion\n",
        "\n",
        "  Archivo, X, Y, x_means, x_stds, y_mean, y_std = loadData(Archivo, Vacunacion_copy, 'region', 'Arequipa','deaths')\n",
        "  Archivo['date']=pd.to_datetime(Archivo['date'])\n",
        "\n",
        "  x_train, x_test, y_train, y_test = trainTestSplit(Archivo, X, Y)\n",
        "  error_train, error_test, theta, iteraciones = ejecutarRegresionLinear(x_train, x_test, y_train, y_test, [x_means, x_stds, y_mean, y_std], \"Fechas\", \"Valores\", \"Prediccion de las muertes en Arequipa\")\n",
        "  print()\n",
        "  print(\"Iteraciones: \" + str(iteraciones))\n",
        "  print(\"--- %s minutes ---\" % ((time.time() - start_time)/60))"
      ],
      "execution_count": null,
      "outputs": [
        {
          "output_type": "stream",
          "name": "stdout",
          "text": [
            "Theta:  [0.95241845 0.94507039 1.00425618]\n",
            "\n",
            "Error in train set:  2.5373050710349827\n",
            "Error in test set:  0.00043122439647425324\n",
            "erorr medio: 0.018945864362151493\n"
          ]
        },
        {
          "output_type": "display_data",
          "data": {
            "image/png": "[encoded data removed]",
            "text/plain": [
              "<Figure size 432x288 with 1 Axes>"
            ]
          },
          "metadata": {
            "needs_background": "light"
          }
        },
        {
          "output_type": "display_data",
          "data": {
            "text/plain": [
              "<Figure size 640x480 with 0 Axes>"
            ]
          },
          "metadata": {}
        },
        {
          "output_type": "stream",
          "name": "stdout",
          "text": [
            "\n",
            "Iteraciones: 10000\n",
            "--- 0.42554910977681476 minutes ---\n"
          ]
        }
      ]
    },
    {
      "cell_type": "markdown",
      "metadata": {
        "id": "01AaFZA298xb"
      },
      "source": [
        "# Experimento 2"
      ]
    },
    {
      "cell_type": "markdown",
      "metadata": {
        "id": "ol7_KSyu98-X"
      },
      "source": [
        "## Prediccion de los casos positivos en el peru"
      ]
    },
    {
      "cell_type": "code",
      "metadata": {
        "id": "TCNpYoZh99RP"
      },
      "source": [
        "# Mejores valores\n",
        "# theta = np.ones()\n",
        "# alpha = 0.01\n",
        "if execute_tests[2]:\n",
        "  start_time = time.time()\n",
        "\n",
        "  Archivo = pd.read_csv('/content/drive/MyDrive/Topicos_IA/dataset.csv')\n",
        "  Vacunacion_copy = Vacunacion\n",
        "\n",
        "  Archivo, X, Y, x_means, x_stds, y_mean, y_std = loadData(Archivo, Vacunacion_copy,'country', 'Peru','confirmed')\n",
        "  Archivo['date']=pd.to_datetime(Archivo['date'])\n",
        "\n",
        "  x_train, x_test, y_train, y_test = trainTestSplit(Archivo, X, Y)\n",
        "\n",
        "  error_train, error_test, theta, iteraciones = ejecutarRegresionLinear(x_train, x_test, y_train, y_test, [x_means, x_stds, y_mean, y_std], \"Fechas\", \"Valores\", \"Prediccion de los casos confirmados en Peru\")\n",
        "\n",
        "  print(\"Iteraciones: \" + str(iteraciones))\n",
        "  print(\"--- %s minutes ---\" % ((time.time() - start_time)/60))"
      ],
      "execution_count": null,
      "outputs": []
    },
    {
      "cell_type": "markdown",
      "metadata": {
        "id": "5m3MQzXQ99YU"
      },
      "source": [
        "## Prediccion de las muertes en el peru"
      ]
    },
    {
      "cell_type": "code",
      "metadata": {
        "id": "7OP7OXwi99fB"
      },
      "source": [
        "# Mejores valores\n",
        "# theta = np.ones()\n",
        "# alpha = 0.001\n",
        "if execute_tests[3]:\n",
        "  start_time = time.time()\n",
        "\n",
        "  Archivo = pd.read_csv('/content/drive/MyDrive/Topicos_IA/dataset.csv')\n",
        "  Vacunacion_copy = Vacunacion\n",
        "\n",
        "  Archivo, X, Y, x_means, x_stds, y_mean, y_std = loadData(Archivo, Vacunacion_copy,'country', 'Peru','deaths')\n",
        "  Archivo['date']=pd.to_datetime(Archivo['date'])\n",
        "  x_train, x_test, y_train, y_test = trainTestSplit(Archivo, X, Y)\n",
        "\n",
        "  error_train, error_test, theta, iteraciones = ejecutarRegresionLinear(x_train, x_test, y_train, y_test, [x_means, x_stds, y_mean, y_std], \"Fechas\", \"Valores\", \"Prediccion de las muertes en Peru\")\n",
        "\n",
        "  print()\n",
        "  print(\"Iteraciones: \" + str(iteraciones))\n",
        "  print(\"--- %s minutes ---\" % ((time.time() - start_time)/60))"
      ],
      "execution_count": null,
      "outputs": []
    }
  ]
}